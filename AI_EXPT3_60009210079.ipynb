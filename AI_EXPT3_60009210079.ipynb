{
  "cells": [
    {
      "cell_type": "markdown",
      "metadata": {
        "id": "view-in-github",
        "colab_type": "text"
      },
      "source": [
        "<a href=\"https://colab.research.google.com/github/drashtikshah/artifical-intelliegnce/blob/main/AI_EXPT3_60009210079.ipynb\" target=\"_parent\"><img src=\"https://colab.research.google.com/assets/colab-badge.svg\" alt=\"Open In Colab\"/></a>"
      ]
    },
    {
      "cell_type": "code",
      "execution_count": null,
      "metadata": {
        "id": "NPrKgQJNmszd"
      },
      "outputs": [],
      "source": [
        "import copy"
      ]
    },
    {
      "cell_type": "code",
      "execution_count": null,
      "metadata": {
        "id": "k-dHpbugjpef"
      },
      "outputs": [],
      "source": [
        "def movegen(curr_state):\n",
        "    global closed, open_list\n",
        "    state = copy.deepcopy(curr_state)\n",
        "    neighbors = []\n",
        "    for i in range(len(state)):\n",
        "        temp = copy.deepcopy(state)\n",
        "        if len(temp[i]) > 0:\n",
        "            elem = temp[i].pop()\n",
        "            for j in range(len(temp)):\n",
        "                temp1 = copy.deepcopy(temp)\n",
        "                if j != i:\n",
        "                    temp1[j] = temp1[j] + [elem]\n",
        "                    if (temp1 not in closed and temp1 not in open_list):\n",
        "                        neighbors.append(temp1)\n",
        "    return neighbors\n"
      ]
    },
    {
      "cell_type": "code",
      "execution_count": null,
      "metadata": {
        "colab": {
          "base_uri": "https://localhost:8080/"
        },
        "id": "o-MyMt2Mo76G",
        "outputId": "030d8cb1-5af3-4b54-d0e1-39078a672aa9"
      },
      "outputs": [
        {
          "name": "stdout",
          "output_type": "stream",
          "text": [
            "[[['d', 'c', 'b'], ['f', 'e', 'a'], []], [['d', 'c', 'b'], ['f', 'e'], ['a']], [['d', 'c', 'b', 'a', 'e'], ['f'], []], [['d', 'c', 'b', 'a'], ['f'], ['e']]]\n"
          ]
        }
      ],
      "source": [
        "# Example state: [[3, 2, 1], [], []]\n",
        "curr_state = [[\"d\",\"c\",\"b\",\"a\"], [\"f\",\"e\"],[]]\n",
        "closed = []\n",
        "open_list = []\n",
        "neighbors = movegen(curr_state)\n",
        "print(neighbors)"
      ]
    },
    {
      "cell_type": "code",
      "execution_count": null,
      "metadata": {
        "id": "NyouySgMkdmj"
      },
      "outputs": [],
      "source": [
        "#Heuristic 1 : considering position of blocks\n",
        "def heuristic1(curr_state):\n",
        "    global goal_state, d_goal\n",
        "    h_val = 0\n",
        "    cur = copy.deepcopy(curr_state)\n",
        "    d_cur = dict((j,(x, y)) for x, i in enumerate(cur) for y, j in enumerate(i))\n",
        "    d_goal = {\n",
        "    \"a\": (0,4),  #Block 1 is in stack 0, position 0\n",
        "    \"b\": (0,2),\n",
        "    \"c\": (0,1),\n",
        "    \"d\": (0,0),\n",
        "    \"e\": (0,3),\n",
        "    \"f\": (1,0)\n",
        "}\n",
        "\n",
        "    for i in range(3):\n",
        "        for j in range(len(cur[i])):\n",
        "            curx, cury = d_cur[cur[i][j]]\n",
        "            goalx, goaly = d_goal[cur[i][j]]\n",
        "            if( goaly == cury and goalx == curx):\n",
        "                h_val += 1\n",
        "            else:\n",
        "                h_val -= 1\n",
        "    return h_val"
      ]
    },
    {
      "cell_type": "code",
      "execution_count": null,
      "metadata": {
        "id": "wdfJ_n-Bkfwb"
      },
      "outputs": [],
      "source": [
        "#Heuristic 2 : Considering heights of block\n",
        "def heuristic2(curr_state):\n",
        "    global goal_state, d_goal\n",
        "    h_val = 0\n",
        "    cur = copy.deepcopy(curr_state)\n",
        "    d_cur = dict((j,(x, y)) for x, i in enumerate(cur) for y, j in enumerate(i))\n",
        "    for i in range(3):\n",
        "        for j in range(len(cur[i])):\n",
        "            curx, cury = d_cur[cur[i][j]]\n",
        "            goalx, goaly = d_goal[cur[i][j]]\n",
        "            if( goaly == cury):\n",
        "                h_val += (cury+1)\n",
        "            else:\n",
        "                h_val -=(cury+1)\n",
        "\n",
        "    return h_val\n"
      ]
    },
    {
      "cell_type": "code",
      "execution_count": null,
      "metadata": {
        "id": "pPK88ppHxZAO"
      },
      "outputs": [],
      "source": [
        "#Heuristic 3 : Manhatten distance between start and goal state\n",
        "def heuristic3(curr_state):\n",
        "    global goal_state, d_goal\n",
        "    h_val = 0\n",
        "    cur = copy.deepcopy(curr_state)\n",
        "    d_cur = dict((j,(x, y)) for x, i in enumerate(cur) for y, j in enumerate(i))\n",
        "    for i in range(3):\n",
        "        for j in range(len(cur[i])):\n",
        "            curx, cury = d_cur[cur[i][j]]\n",
        "            goalx, goaly = d_goal[cur[i][j]]\n",
        "            h_val += (abs(curx-goalx) + abs(cury-goaly))\n",
        "    return h_val"
      ]
    },
    {
      "cell_type": "code",
      "execution_count": null,
      "metadata": {
        "id": "8kAWpxKgxnLP"
      },
      "outputs": [],
      "source": [
        "#Function to find if goal state is reached or not\n",
        "def goaltest(cur_state):\n",
        "    global goal_state\n",
        "    for i in range(3):\n",
        "        if(len(goal_state[i])!=len(cur_state[i])):\n",
        "            return False\n",
        "        for j in range(len(goal_state[i])):\n",
        "            if(goal_state[i][j]!=cur_state[i][j]):\n",
        "                return False\n",
        "    return True"
      ]
    },
    {
      "cell_type": "code",
      "execution_count": null,
      "metadata": {
        "colab": {
          "base_uri": "https://localhost:8080/"
        },
        "id": "ejBdASJ5xpih",
        "outputId": "6e6a9c47-8024-4328-facc-439b5f7fd604"
      },
      "outputs": [
        {
          "name": "stdout",
          "output_type": "stream",
          "text": [
            "Heuristic 1 Value: 2\n",
            "Heuristic 2 Value: 1\n",
            "Heuristic 3 Value: 4\n"
          ]
        }
      ],
      "source": [
        "# Assuming goal_state and d_goal are defined elsewhere\n",
        "curr_state = [[\"d\",\"c\",\"b\",\"a\"], [\"f\",\"e\"], []]\n",
        "\n",
        "# Example usage\n",
        "h1_value = heuristic1(curr_state)\n",
        "h2_value = heuristic2(curr_state)\n",
        "h3_value = heuristic3(curr_state)\n",
        "\n",
        "print(f\"Heuristic 1 Value: {h1_value}\")\n",
        "print(f\"Heuristic 2 Value: {h2_value}\")\n",
        "print(f\"Heuristic 3 Value: {h3_value}\")"
      ]
    },
    {
      "cell_type": "markdown",
      "metadata": {
        "id": "9byKMu7kEv8s"
      },
      "source": [
        "***BEST FIRST SEARCH:***"
      ]
    },
    {
      "cell_type": "code",
      "execution_count": null,
      "metadata": {
        "id": "GLLAfFpKmGbH"
      },
      "outputs": [],
      "source": [
        "# Define your start_state and goal_state here\n",
        "start_state = [[\"d\", \"c\", \"b\", \"a\"], [\"f\", \"e\"], []]\n",
        "goal_state = [[], [], [\"a\", \"b\", \"c\", \"d\", \"e\", \"f\"]]"
      ]
    },
    {
      "cell_type": "code",
      "execution_count": null,
      "metadata": {
        "id": "vdBSsjkxwLA3"
      },
      "outputs": [],
      "source": [
        "def goaltest(current_state):\n",
        "    return current_state == goal_state"
      ]
    },
    {
      "cell_type": "code",
      "execution_count": null,
      "metadata": {
        "id": "X_XkbwmHFeL0"
      },
      "outputs": [],
      "source": [
        "from operator import itemgetter\n",
        "import sys"
      ]
    },
    {
      "cell_type": "code",
      "execution_count": null,
      "metadata": {
        "id": "x--0DL-dEy7M"
      },
      "outputs": [],
      "source": [
        "# Define the BFS functions\n",
        "def bfs1():\n",
        "    global closed, open_list, heap, start_state, goal_state\n",
        "    open_list = []\n",
        "    heap = []\n",
        "    closed = []\n",
        "\n",
        "    current_state = copy.deepcopy(start_state)\n",
        "    open_list.append(copy.deepcopy(start_state))\n",
        "\n",
        "    while True:\n",
        "        closed.append(copy.deepcopy(current_state))\n",
        "        if goaltest(current_state):\n",
        "            return \"Goal state reached\"\n",
        "        open_list.remove(current_state)\n",
        "        prev_heu = heuristic1(current_state)\n",
        "        neighbors = movegen(current_state)\n",
        "        for i in neighbors:\n",
        "            open_list.append(i)\n",
        "            heap.append([i, heuristic1(i)])\n",
        "        list = [current_state, prev_heu]\n",
        "        if list in heap:\n",
        "            heap.remove(list)\n",
        "        if len(open_list) == 0:\n",
        "            return \"Goal state can't be reached\"\n",
        "        current_heap = copy.deepcopy(max(heap, key=itemgetter(1)))\n",
        "        current_state = current_heap[0]"
      ]
    },
    {
      "cell_type": "code",
      "execution_count": null,
      "metadata": {
        "id": "kwk73biZE7Dr"
      },
      "outputs": [],
      "source": [
        "def bfs3():\n",
        "    global closed, open_list, heap, start_state, goal_state\n",
        "    open_list = []\n",
        "    heap = []\n",
        "    closed = []\n",
        "\n",
        "    current_state = copy.deepcopy(start_state)\n",
        "    open_list.append(copy.deepcopy(start_state))\n",
        "\n",
        "    while True:\n",
        "        closed.append(copy.deepcopy(current_state))\n",
        "        if goaltest(current_state):\n",
        "            return \"Goal state reached\"\n",
        "        open_list.remove(current_state)\n",
        "        prev_heu = heuristic3(current_state)\n",
        "        neighbors = movegen(current_state)\n",
        "        for i in neighbors:\n",
        "            open_list.append(i)\n",
        "            heap.append([i, heuristic3(i)])\n",
        "        list = [current_state, prev_heu]\n",
        "        if list in heap:\n",
        "            heap.remove(list)\n",
        "        if len(open_list) == 0:\n",
        "            return \"Goal state can't be reached\"\n",
        "        current_heap = copy.deepcopy(min(heap, key=itemgetter(1)))\n",
        "        current_state = current_heap[0]"
      ]
    },
    {
      "cell_type": "code",
      "execution_count": null,
      "metadata": {
        "colab": {
          "base_uri": "https://localhost:8080/"
        },
        "id": "EgejYNDu5_zJ",
        "outputId": "50e71753-18ba-4119-a6df-96c578a5d384"
      },
      "outputs": [
        {
          "name": "stdout",
          "output_type": "stream",
          "text": [
            "Result of BFS1: Goal state reached\n",
            "Result of BFS2: Goal state reached\n",
            "Result of BFS3: Goal state reached\n"
          ]
        }
      ],
      "source": [
        "result1 = bfs1()\n",
        "result3 = bfs3()\n",
        "\n",
        "print(\"Result of BFS1:\", result1)\n",
        "print(\"Result of BFS2:\", result3)"
      ]
    },
    {
      "cell_type": "markdown",
      "metadata": {
        "id": "CLEVDt4vE9rZ"
      },
      "source": [
        "***HILL CLIMBING:***"
      ]
    },
    {
      "cell_type": "code",
      "execution_count": null,
      "metadata": {
        "id": "2XWgfpWxqTXu"
      },
      "outputs": [],
      "source": [
        "# Define your movegen, goaltest, heuristic1, heuristic2, and heuristic3 functions here.\n",
        "def movegen(curr_state):\n",
        "    state = copy.deepcopy(curr_state)\n",
        "    neighbors = []\n",
        "    for i in range(len(state)):\n",
        "        temp = copy.deepcopy(state)\n",
        "        if len(temp[i]) > 0:\n",
        "            elem = temp[i].pop()\n",
        "            for j in range(len(temp)):\n",
        "                temp1 = copy.deepcopy(temp)\n",
        "                if j != i:\n",
        "                    temp1[j] = temp1[j] + [elem]\n",
        "                    neighbors.append(temp1)\n",
        "    return neighbors"
      ]
    },
    {
      "cell_type": "code",
      "execution_count": null,
      "metadata": {
        "id": "-W_GUO8Hptef"
      },
      "outputs": [],
      "source": [
        "def goaltest(cur_state, goal_state):\n",
        "    for i in range(3):\n",
        "        if len(goal_state[i]) != len(cur_state[i]):\n",
        "            return False\n",
        "        for j in range(len(goal_state[i])):\n",
        "            if goal_state[i][j] != cur_state[i][j]:\n",
        "                return False\n",
        "    return True"
      ]
    },
    {
      "cell_type": "code",
      "execution_count": null,
      "metadata": {
        "id": "8i7TudhrotS3"
      },
      "outputs": [],
      "source": [
        "def heuristic1(curr_state):\n",
        "    h_val = 0\n",
        "    cur = copy.deepcopy(curr_state)\n",
        "    for i in range(3):\n",
        "        for j in range(len(cur[i])):\n",
        "            if j < len(goal_state[i]) and goal_state[i][j] == cur[i][j]:\n",
        "                h_val += 1\n",
        "    return h_val"
      ]
    },
    {
      "cell_type": "code",
      "execution_count": null,
      "metadata": {
        "id": "bQ-CrnxxoxGX"
      },
      "outputs": [],
      "source": [
        "def heuristic3(curr_state):\n",
        "    h_val = 0\n",
        "    cur = copy.deepcopy(curr_state)\n",
        "    d_cur = dict((j, (x, y)) for x, i in enumerate(cur) for y, j in enumerate(i))\n",
        "    for i in range(3):\n",
        "        for j in range(len(cur[i])):\n",
        "            curx, cury = d_cur[cur[i][j]]\n",
        "            goalx, goaly = d_goal[cur[i][j]]\n",
        "            h_val += (abs(curx - goalx) + abs(cury - goaly))\n",
        "    return h_val"
      ]
    },
    {
      "cell_type": "code",
      "execution_count": null,
      "metadata": {
        "id": "i6uK8ytfFATh"
      },
      "outputs": [],
      "source": [
        "def hillClimbing1():\n",
        "    global closed, open_list, heap, start_state, goal_state\n",
        "    current_state = copy.deepcopy(start_state)\n",
        "    open_list.append(copy.deepcopy(start_state))\n",
        "    while(True):\n",
        "        closed.append(copy.deepcopy(current_state))\n",
        "        if(goaltest(current_state)):\n",
        "            f_out.write(\"Goal state reached\\n\\n\")\n",
        "            return current_state\n",
        "        prev_heu = heuristic1(current_state)\n",
        "        neighbors = movegen(current_state)\n",
        "        for i in neighbors:\n",
        "            h = heuristic1(i)\n",
        "            heap.append([i,h])\n",
        "\n",
        "        current_heap = copy.deepcopy(max(heap,key=itemgetter(1)))\n",
        "        if(current_heap[1] <= prev_heu):\n",
        "            f_out.write(\"Goal state can't be reached\\n\\n\")\n",
        "            return current_state\n",
        "\n",
        "        current_state = current_heap[0]\n",
        "        heap = []"
      ]
    },
    {
      "cell_type": "code",
      "execution_count": null,
      "metadata": {
        "id": "SEwEM5Y-FA1Z"
      },
      "outputs": [],
      "source": [
        "def hillClimbing3():\n",
        "    global closed, open_list, heap, start_state, goal_state\n",
        "    current_state = copy.deepcopy(start_state)\n",
        "    open_list.append(copy.deepcopy(start_state))\n",
        "    while(True):\n",
        "        closed.append(copy.deepcopy(current_state))\n",
        "        if(goaltest(current_state)):\n",
        "            f_out.write(\"Goal state reached\\n\\n\")\n",
        "            return current_state\n",
        "        prev_heu = heuristic3(current_state)\n",
        "        neighbors = movegen(current_state)\n",
        "        for i in neighbors:\n",
        "            h = heuristic3(i)\n",
        "            heap.append([i,h])\n",
        "\n",
        "        current_heap = copy.deepcopy(min(heap,key=itemgetter(1)))\n",
        "        if(current_heap[1] >= prev_heu):\n",
        "            f_out.write(\"Goal state can't be reached\\n\\n\")\n",
        "            return current_state\n",
        "\n",
        "        current_state = current_heap[0]\n",
        "        heap = []\n"
      ]
    },
    {
      "cell_type": "code",
      "execution_count": null,
      "metadata": {
        "id": "IhmaVFjPqNM3"
      },
      "outputs": [],
      "source": [
        "def hillClimbing(heuristic_func, start_state, goal_state):\n",
        "    current_state = copy.deepcopy(start_state)\n",
        "    while True:\n",
        "        if goaltest(current_state, goal_state):\n",
        "            print(\"Goal state reached\")\n",
        "            return current_state\n",
        "\n",
        "        # Create an empty heap\n",
        "        heap = []\n",
        "\n",
        "        # Generate neighboring states and their heuristics\n",
        "        for i in movegen(current_state):\n",
        "            h = heuristic_func(i)\n",
        "            heap.append([i, h])\n",
        "\n",
        "        # Check if the heap is empty\n",
        "        if not heap:\n",
        "            print(\"No valid solution found.\")\n",
        "            return None\n",
        "\n",
        "        # Find the state with the highest heuristic value\n",
        "        current_heap = max(heap, key=itemgetter(1))\n",
        "        current_state = current_heap[0]\n"
      ]
    },
    {
      "cell_type": "code",
      "execution_count": null,
      "metadata": {
        "id": "Zy9iS6QQneH0"
      },
      "outputs": [],
      "source": [
        "# Define your start_state and goal_state here\n",
        "start_state = [[\"d\", \"c\", \"b\", \"a\"], [\"f\", \"e\"], []]\n",
        "goal_state = [[],[],[\"a\", \"b\", \"c\", \"d\", \"e\", \"f\"]]"
      ]
    },
    {
      "cell_type": "code",
      "execution_count": null,
      "metadata": {
        "colab": {
          "background_save": true,
          "base_uri": "https://localhost:8080/"
        },
        "id": "4rjUtlkJmqtX",
        "outputId": "15e0bfb9-248e-415a-8736-ff09131b2e57"
      },
      "outputs": [
        {
          "name": "stdout",
          "output_type": "stream",
          "text": [
            "Result of Hill Climbing 1:\n",
            "Goal state reached\n",
            "\n",
            "Result of Hill Climbing 2:\n"
          ]
        }
      ],
      "source": [
        "# Example usage\n",
        "print(\"Result of Hill Climbing 1:\")\n",
        "result_hill_climbing1 = hillClimbing(heuristic1, start_state, goal_state)\n",
        "\n",
        "print(\"\\nResult of Hill Climbing 2:\")\n",
        "result_hill_climbing3 = hillClimbing(heuristic3, start_state, goal_state)"
      ]
    }
  ],
  "metadata": {
    "colab": {
      "provenance": [],
      "include_colab_link": true
    },
    "kernelspec": {
      "display_name": "Python 3",
      "name": "python3"
    },
    "language_info": {
      "name": "python"
    }
  },
  "nbformat": 4,
  "nbformat_minor": 0
}