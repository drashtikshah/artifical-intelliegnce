{
  "nbformat": 4,
  "nbformat_minor": 0,
  "metadata": {
    "colab": {
      "provenance": [],
      "authorship_tag": "ABX9TyMdU8bl7gRh+CNP29vglgjR",
      "include_colab_link": true
    },
    "kernelspec": {
      "name": "python3",
      "display_name": "Python 3"
    },
    "language_info": {
      "name": "python"
    }
  },
  "cells": [
    {
      "cell_type": "markdown",
      "metadata": {
        "id": "view-in-github",
        "colab_type": "text"
      },
      "source": [
        "<a href=\"https://colab.research.google.com/github/drashtikshah/artifical-intelliegnce/blob/main/AI_EXPT5_DRASHTISHAH_60009210079.ipynb\" target=\"_parent\"><img src=\"https://colab.research.google.com/assets/colab-badge.svg\" alt=\"Open In Colab\"/></a>"
      ]
    },
    {
      "cell_type": "code",
      "execution_count": null,
      "metadata": {
        "id": "k4vCalKDgauT"
      },
      "outputs": [],
      "source": [
        "import random\n",
        "import numpy as np"
      ]
    },
    {
      "cell_type": "code",
      "source": [
        "# Define the number of cities and the population size\n",
        "num_cities = 10\n",
        "population_size = 100\n",
        "mutation_rate = 0.01\n",
        "num_generations = 100"
      ],
      "metadata": {
        "id": "p8DJnMwrgxxx"
      },
      "execution_count": null,
      "outputs": []
    },
    {
      "cell_type": "code",
      "source": [
        "# Generate random cities with (x, y) coordinates\n",
        "cities = [(random.uniform(0, 100), random.uniform(0, 100)) for _ in range(num_cities)]"
      ],
      "metadata": {
        "id": "V0ilcd4_gzQK"
      },
      "execution_count": null,
      "outputs": []
    },
    {
      "cell_type": "markdown",
      "source": [
        "***POPULATION FUNCTION:***"
      ],
      "metadata": {
        "id": "h-3a0D3xg54q"
      }
    },
    {
      "cell_type": "code",
      "source": [
        "import random\n",
        "\n",
        "# Define the names of cities\n",
        "city_names = [\"A\", \"B\", \"C\", \"D\", \"E\"]\n",
        "\n",
        "# Define the population size\n",
        "population_size = 10\n",
        "\n",
        "# Initialize the population randomly\n",
        "def initialize_population(city_names, population_size):\n",
        "    num_cities = len(city_names)\n",
        "    population = []\n",
        "    for _ in range(population_size):\n",
        "        tour = city_names.copy()\n",
        "        random.shuffle(tour)\n",
        "        population.append(tour)\n",
        "    return population\n",
        "\n",
        "# Example usage\n",
        "population = initialize_population(city_names, population_size)\n",
        "print(\"Randomly Initialized Population:\")\n",
        "for tour in population:\n",
        "    print(\" -> \".join(tour))\n",
        "\n",
        "# Define a function to calculate the distance between two cities\n",
        "def distance_between_cities(city1, city2):\n",
        "    # Replace this with your actual distance calculation logic\n",
        "    # For example, you can calculate the Euclidean distance between their coordinates\n",
        "    # In this example, we use a random distance for illustration purposes\n",
        "    return random.uniform(1, 100)  # Replace with your logic\n",
        "\n",
        "# Create a distance matrix\n",
        "num_cities = len(city_names)\n",
        "distance_matrix = [[0] * num_cities for _ in range(num_cities)]\n",
        "\n",
        "for i in range(num_cities):\n",
        "    for j in range(i + 1, num_cities):\n",
        "        city1 = city_names[i]\n",
        "        city2 = city_names[j]\n",
        "        distance = distance_between_cities(city1, city2)\n",
        "        distance_matrix[i][j] = distance\n",
        "        distance_matrix[j][i] = distance\n",
        "\n",
        "# Print the distance matrix\n",
        "print(\"Distance Matrix:\")\n",
        "for row in distance_matrix:\n",
        "    print(row)\n"
      ],
      "metadata": {
        "colab": {
          "base_uri": "https://localhost:8080/"
        },
        "id": "zossRBo3g0td",
        "outputId": "80efb2fb-b6f8-42f9-e29b-1bd085c6b2a2"
      },
      "execution_count": null,
      "outputs": [
        {
          "output_type": "stream",
          "name": "stdout",
          "text": [
            "Randomly Initialized Population:\n",
            "B -> A -> E -> C -> D\n",
            "D -> C -> B -> A -> E\n",
            "D -> C -> B -> A -> E\n",
            "D -> C -> A -> B -> E\n",
            "E -> B -> D -> A -> C\n",
            "D -> C -> B -> E -> A\n",
            "A -> D -> E -> B -> C\n",
            "A -> D -> C -> E -> B\n",
            "C -> E -> D -> A -> B\n",
            "D -> E -> B -> C -> A\n",
            "Distance Matrix:\n",
            "[0, 8.411395533309046, 60.33439971872865, 16.93367383275732, 43.501155637501874]\n",
            "[8.411395533309046, 0, 6.382956830298447, 99.0514313880837, 83.90508109767224]\n",
            "[60.33439971872865, 6.382956830298447, 0, 9.758108736886472, 50.2075376574254]\n",
            "[16.93367383275732, 99.0514313880837, 9.758108736886472, 0, 40.604545814795856]\n",
            "[43.501155637501874, 83.90508109767224, 50.2075376574254, 40.604545814795856, 0]\n"
          ]
        }
      ]
    },
    {
      "cell_type": "code",
      "source": [
        "def tour_distance(tour, distance_matrix):\n",
        "    total_distance = 0\n",
        "    num_cities = len(tour)\n",
        "    for i in range(num_cities):\n",
        "        city1_index = city_names.index(tour[i])\n",
        "        city2_index = city_names.index(tour[(i + 1) % num_cities])\n",
        "        total_distance += distance_matrix[city1_index][city2_index]\n",
        "    return total_distance"
      ],
      "metadata": {
        "id": "ozI5iiRZg3Ek"
      },
      "execution_count": null,
      "outputs": []
    },
    {
      "cell_type": "markdown",
      "source": [
        "***FITNESS FUNCTION:***"
      ],
      "metadata": {
        "id": "Xsq16JLYhDQR"
      }
    },
    {
      "cell_type": "code",
      "source": [
        "# Define the fitness function\n",
        "def fitness_function(tour, distance_matrix):\n",
        "    total_distance = tour_distance(tour, distance_matrix)\n",
        "    # Fitness is inversely proportional to distance; higher fitness for shorter tours\n",
        "    fitness = 1 / total_distance\n",
        "    return fitness\n",
        "\n",
        "# Example usage\n",
        "sample_tour = [\"A\", \"B\", \"C\", \"D\", \"E\"]\n",
        "fitness_of_sample_tour = fitness_function(sample_tour, distance_matrix)\n",
        "\n",
        "print(f\"Sample Tour: {sample_tour}\")\n",
        "print(f\"Fitness of Sample Tour: {fitness_of_sample_tour}\")"
      ],
      "metadata": {
        "colab": {
          "base_uri": "https://localhost:8080/"
        },
        "id": "N2pPM7gng_Wa",
        "outputId": "1fc1e28f-d188-4c6b-e8ba-d00e477f69ec"
      },
      "execution_count": null,
      "outputs": [
        {
          "output_type": "stream",
          "name": "stdout",
          "text": [
            "Sample Tour: ['A', 'B', 'C', 'D', 'E']\n",
            "Fitness of Sample Tour: 0.009203174216333253\n"
          ]
        }
      ]
    },
    {
      "cell_type": "markdown",
      "source": [
        "***ROULET FUNCTION:***"
      ],
      "metadata": {
        "id": "6N71ZyAWhImF"
      }
    },
    {
      "cell_type": "code",
      "source": [
        "# Roulette wheel selection function\n",
        "def roulette_wheel_selection(population, fitness_function):\n",
        "    total_fitness = sum(fitness_function(tour, distance_matrix) for tour in population)\n",
        "    selection_point = random.uniform(0, total_fitness)\n",
        "    current_sum = 0\n",
        "\n",
        "    for tour in population:\n",
        "        current_sum += fitness_function(tour, distance_matrix)\n",
        "        if current_sum >= selection_point:\n",
        "            return tour\n",
        "\n",
        "# Example usage\n",
        "selected_tour = roulette_wheel_selection(population, fitness_function)\n",
        "print(f\"Selected Tour: {selected_tour}\")"
      ],
      "metadata": {
        "colab": {
          "base_uri": "https://localhost:8080/"
        },
        "id": "5cN7bbVrhIAA",
        "outputId": "c3211d34-b0f3-47a0-c03f-c0d76bebcfa1"
      },
      "execution_count": null,
      "outputs": [
        {
          "output_type": "stream",
          "name": "stdout",
          "text": [
            "Selected Tour: ['A', 'D', 'C', 'E', 'B']\n"
          ]
        }
      ]
    },
    {
      "cell_type": "code",
      "source": [
        "def mutate(tour):\n",
        "    # Randomly select two distinct indices to swap\n",
        "    idx1, idx2 = random.sample(range(len(tour)), 2)\n",
        "\n",
        "    # Swap the cities at the selected indices\n",
        "    tour[idx1], tour[idx2] = tour[idx2], tour[idx1]\n",
        "\n",
        "# Example usage\n",
        "sample_tour = [\"A\", \"B\", \"C\", \"D\", \"E\"]\n",
        "print(\"Original Tour:\", sample_tour)\n",
        "\n",
        "# Mutate the sample tour\n",
        "mutate(sample_tour)\n",
        "print(\"Mutated Tour:\", sample_tour)"
      ],
      "metadata": {
        "colab": {
          "base_uri": "https://localhost:8080/"
        },
        "id": "zxmeHilThOVO",
        "outputId": "7883584d-9054-4b94-f37d-9e8cfbee60b2"
      },
      "execution_count": null,
      "outputs": [
        {
          "output_type": "stream",
          "name": "stdout",
          "text": [
            "Original Tour: ['A', 'B', 'C', 'D', 'E']\n",
            "Mutated Tour: ['D', 'B', 'C', 'A', 'E']\n"
          ]
        }
      ]
    }
  ]
}